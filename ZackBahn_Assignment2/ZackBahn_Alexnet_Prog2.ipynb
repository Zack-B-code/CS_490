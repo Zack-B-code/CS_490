{
 "cells": [
  {
   "cell_type": "code",
   "execution_count": 15,
   "metadata": {},
   "outputs": [],
   "source": [
    "import torch"
   ]
  },
  {
   "cell_type": "code",
   "execution_count": 16,
   "metadata": {},
   "outputs": [
    {
     "data": {
      "text/plain": [
       "True"
      ]
     },
     "execution_count": 16,
     "metadata": {},
     "output_type": "execute_result"
    }
   ],
   "source": [
    "torch.cuda.is_available()"
   ]
  },
  {
   "cell_type": "code",
   "execution_count": 3,
   "metadata": {},
   "outputs": [
    {
     "data": {
      "text/plain": [
       "'Quadro RTX 6000'"
      ]
     },
     "execution_count": 3,
     "metadata": {},
     "output_type": "execute_result"
    }
   ],
   "source": [
    "torch.cuda.get_device_name(0)"
   ]
  },
  {
   "cell_type": "code",
   "execution_count": 18,
   "metadata": {},
   "outputs": [
    {
     "data": {
      "text/plain": [
       "(20624572416, 23793106944)"
      ]
     },
     "execution_count": 18,
     "metadata": {},
     "output_type": "execute_result"
    }
   ],
   "source": [
    "torch.cuda.mem_get_info()"
   ]
  },
  {
   "cell_type": "code",
   "execution_count": 17,
   "metadata": {},
   "outputs": [
    {
     "name": "stdout",
     "output_type": "stream",
     "text": [
      "cuda\n",
      "Quadro RTX 6000\n"
     ]
    }
   ],
   "source": [
    "device=torch.device('cuda' if torch.cuda.is_available() else 'cpu')\n",
    "print(device)\n",
    "\n",
    "if device.type=='cuda':\n",
    "    print(torch.cuda.get_device_name(0))"
   ]
  },
  {
   "cell_type": "code",
   "execution_count": 19,
   "metadata": {},
   "outputs": [
    {
     "data": {
      "text/plain": [
       "device(type='cuda')"
      ]
     },
     "execution_count": 19,
     "metadata": {},
     "output_type": "execute_result"
    }
   ],
   "source": [
    "CLASSES=10\n",
    "device=torch.device('cuda' if torch.cuda.is_available() else 'cpu')\n",
    "device"
   ]
  },
  {
   "cell_type": "code",
   "execution_count": 6,
   "metadata": {},
   "outputs": [],
   "source": [
    "import torch\n",
    "import torchvision\n",
    "import torchvision.datasets as datasets\n",
    "import torchvision.transforms as transforms\n",
    "import torch.optim as optim\n",
    "import torch.nn as nn\n",
    "import torch.nn.functional as F\n",
    "#import matplotlib.pyplot as plt\n",
    "import numpy as np"
   ]
  },
  {
   "cell_type": "code",
   "execution_count": 7,
   "metadata": {},
   "outputs": [],
   "source": [
    "class Net(nn.Module):\n",
    "    def __init__(self):\n",
    "        super().__init__()\n",
    "        # self.conv1 = nn.Conv2d(in_channels=1,out_channels=96,kernel_size=11,stride=4)\n",
    "        # self.local_response1=nn.LocalResponseNorm(size=5,alpha=0.0001,beta=0.75,k=2)\n",
    "        # self.pool1 = nn.MaxPool2d(kernel_size=3,stride=2)\n",
    "        # self.conv2 = nn.Conv2d(in_channels=96,out_channels=256,kernel_size=5,padding=2)\n",
    "        # self.local_response2=nn.LocalResponseNorm(size=5,alpha=0.0001,beta=0.75,k=2)\n",
    "        # self.pool2=nn.MaxPool2d(kernel_size=3,stride=2)\n",
    "        # self.conv3=nn.Conv2d(in_channels=256,out_channels=384,kernel_size=3,padding=1)\n",
    "        # self.conv4=nn.Conv2d(in_channels=384,out_channels=384,kernel_size=3,padding=1)\n",
    "        # self.conv5=nn.Conv2d(in_channels=384,out_channels=256,kernel_size=3,padding=1)\n",
    "        # self.pool5=nn.MaxPool2d(kernel_size=3,stride=2)\n",
    "        # self.fc1 = nn.Linear(in_features=(256*5*5),out_features=4096)\n",
    "        # self.fc2 = nn.Linear(in_features=4096,out_features=4096)\n",
    "        # self.fc3 = nn.Linear(in_features=4096,out_features=CLASSES)\n",
    "\n",
    "        # PROGRAM 2 NEW EDITS START BELOW\n",
    "        # Layer 1:\n",
    "        self.conv1 = nn.Conv2d(in_channels=1,out_channels=96,kernel_size=11,stride=4)\n",
    "        # Layer 2:\n",
    "        self.conv2 = nn.Conv2d(in_channels=1,out_channels=96,kernel_size=1)\n",
    "        # Layer 3:\n",
    "        self.conv3 = nn.Conv2d(in_channels=1,out_channels=96,kernel_size=1)\n",
    "        self.pool3 = nn.MaxPool2d(kernel_size=3,stride=2)\n",
    "        # Layer 4:\n",
    "        self.conv4 = nn.Conv2d(in_channels=96,out_channels=256,kernel_size=11,stride=4,padding=2)\n",
    "        # Layer 5:\n",
    "        self.conv5 = nn.Conv2d(in_channels=96,out_channels=256,kernel_size=1)\n",
    "        # Layer 6:\n",
    "        self.conv6 = nn.Conv2d(in_channels=96,out_channels=256,kernel_size=1)\n",
    "        self.pool6 = nn.Maxpool2d(kernel_size=3,stride=2)\n",
    "        # Layer 7:\n",
    "        self.conv7 = nn.Conv2d(in_channels=256,out_channels=384,kernel_size=3,stride=1,padding=1)\n",
    "        # Layer 8:\n",
    "        self.conv8 = nn.Conv2d(in_channels=256,out_channels=384,kernel_size=1)\n",
    "        # Layer 9:\n",
    "        self.conv9 = nn.Conv2d(in_channels=256,out_channels=384,kernel_size=1)\n",
    "\n",
    "        \n",
    "        \n",
    "        # PROGRAM 2 SPECIFIC NEW EDITS START BELOW\n",
    "        # Layer 9\n",
    "        # Below is my calculation for X and Y:\n",
    "        # Using equation: Output size = (Input size - Kernel size + 2 * Padding) / Stride + 1\n",
    "        # => 4096=( (X*Y*384) - 10 + 2 * 0 ) / 0 + 1\n",
    "        # Assume X and Y will be equal or the same number, use X^2 \n",
    "        # => 4096=( (X^2)*384 - 10 + 2 * 0 ) / 0 + 1\n",
    "        # => 4096=( 384X^2 - 10) / 1\n",
    "        # => 4096=( 384X^2 - 10)\n",
    "        # => 4106=384X^2\n",
    "        # => 10.69=X^2\n",
    "        # X = 3.27, so X and Y is 3 because of floor function\n",
    "        self.fc10 = nn.Linear(in_features=(384*3*3),out_features=4096) \n",
    "        # Layer 10\n",
    "        self.fc11 = nn.Linear(in_features=(4096),out_features=4096) \n",
    "        # Layer 11\n",
    "        self.fc12 = nn.Linear(in_features=(4096),out_features=CLASSES) \n",
    "\n",
    "\n",
    "    def forward(self, x):\n",
    "        # x = self.pool1(F.relu(self.local_response1(self.conv1(x))))\n",
    "        # x = self.pool2(F.relu(self.local_response2(self.conv2(x))))\n",
    "        # x = F.relu(self.conv3(x))\n",
    "        # x = F.relu(self.conv4(x))\n",
    "        # x = self.pool5(F.relu(self.conv5(x)))\n",
    "        # x = torch.flatten(x, 1) # flatten all dimensions except batch\n",
    "        # x = F.relu(self.fc1(x))\n",
    "        # x = F.dropout(x, 0.5)\n",
    "        # x = F.relu(self.fc2(x))\n",
    "        # x = F.dropout(x, 0.5)\n",
    "        # x = self.fc3(x)\n",
    "\n",
    "        # Call relu and dropout for each layer\n",
    "        x = F.relu(self.conv1(x))\n",
    "        x = F.relu(self.conv2(x))\n",
    "        x = F.relu(self.conv3(x))\n",
    "        x = F.dropout(x, 0.5)\n",
    "        x = F.relu(self.conv4(x))\n",
    "        x = F.relu(self.conv5(x))\n",
    "        x = F.relu(self.conv6(x))\n",
    "        x = F.dropout(x, 0.5)\n",
    "        x = F.relu(self.conv7(x))\n",
    "        x = F.relu(self.conv8(x))\n",
    "        x = F.relu(self.conv9(x))\n",
    "        x = F.dropout(x, 0.5)\n",
    "\n",
    "        # Program 2 calls to relu and dropout\n",
    "        x = F.relu(self.fc10(x))\n",
    "        x = F.dropout(x, 0.5)\n",
    "        x = F.relu(self.fc11(x))\n",
    "        x = F.dropout(x, 0.5)\n",
    "\n",
    "        return x"
   ]
  },
  {
   "cell_type": "code",
   "execution_count": 8,
   "metadata": {},
   "outputs": [],
   "source": [
    "transform_conf=transforms.Compose([\n",
    "    transforms.Resize((224,224)),\n",
    "    transforms.ToTensor(),\n",
    "    transforms.Normalize((0.1307,),(0.3081,))\n",
    "])"
   ]
  },
  {
   "cell_type": "code",
   "execution_count": 9,
   "metadata": {},
   "outputs": [
    {
     "name": "stdout",
     "output_type": "stream",
     "text": [
      "Downloading http://fashion-mnist.s3-website.eu-central-1.amazonaws.com/train-images-idx3-ubyte.gz\n",
      "Downloading http://fashion-mnist.s3-website.eu-central-1.amazonaws.com/train-images-idx3-ubyte.gz to /home/ubuntu/data/FashionMNIST/raw/train-images-idx3-ubyte.gz\n"
     ]
    },
    {
     "name": "stderr",
     "output_type": "stream",
     "text": [
      "100.0%\n"
     ]
    },
    {
     "name": "stdout",
     "output_type": "stream",
     "text": [
      "Extracting /home/ubuntu/data/FashionMNIST/raw/train-images-idx3-ubyte.gz to /home/ubuntu/data/FashionMNIST/raw\n",
      "\n",
      "Downloading http://fashion-mnist.s3-website.eu-central-1.amazonaws.com/train-labels-idx1-ubyte.gz\n",
      "Downloading http://fashion-mnist.s3-website.eu-central-1.amazonaws.com/train-labels-idx1-ubyte.gz to /home/ubuntu/data/FashionMNIST/raw/train-labels-idx1-ubyte.gz\n"
     ]
    },
    {
     "name": "stderr",
     "output_type": "stream",
     "text": [
      "100.0%\n"
     ]
    },
    {
     "name": "stdout",
     "output_type": "stream",
     "text": [
      "Extracting /home/ubuntu/data/FashionMNIST/raw/train-labels-idx1-ubyte.gz to /home/ubuntu/data/FashionMNIST/raw\n",
      "\n",
      "Downloading http://fashion-mnist.s3-website.eu-central-1.amazonaws.com/t10k-images-idx3-ubyte.gz\n",
      "Downloading http://fashion-mnist.s3-website.eu-central-1.amazonaws.com/t10k-images-idx3-ubyte.gz to /home/ubuntu/data/FashionMNIST/raw/t10k-images-idx3-ubyte.gz\n"
     ]
    },
    {
     "name": "stderr",
     "output_type": "stream",
     "text": [
      "100.0%\n"
     ]
    },
    {
     "name": "stdout",
     "output_type": "stream",
     "text": [
      "Extracting /home/ubuntu/data/FashionMNIST/raw/t10k-images-idx3-ubyte.gz to /home/ubuntu/data/FashionMNIST/raw\n",
      "\n",
      "Downloading http://fashion-mnist.s3-website.eu-central-1.amazonaws.com/t10k-labels-idx1-ubyte.gz\n",
      "Downloading http://fashion-mnist.s3-website.eu-central-1.amazonaws.com/t10k-labels-idx1-ubyte.gz to /home/ubuntu/data/FashionMNIST/raw/t10k-labels-idx1-ubyte.gz\n"
     ]
    },
    {
     "name": "stderr",
     "output_type": "stream",
     "text": [
      "100.0%"
     ]
    },
    {
     "name": "stdout",
     "output_type": "stream",
     "text": [
      "Extracting /home/ubuntu/data/FashionMNIST/raw/t10k-labels-idx1-ubyte.gz to /home/ubuntu/data/FashionMNIST/raw\n",
      "\n"
     ]
    },
    {
     "name": "stderr",
     "output_type": "stream",
     "text": [
      "\n"
     ]
    }
   ],
   "source": [
    "BATCH_SIZE=16\n",
    "                                    # Change to file path of server\n",
    "train_dataset=datasets.MNIST('/home/ubuntu/data/',train=True,download=True,transform=transform_conf,)\n",
    "test_dataset=datasets.MNIST('/home/ubuntu/data/',train=False,download=True,transform=transform_conf)"
   ]
  },
  {
   "cell_type": "code",
   "execution_count": 10,
   "metadata": {},
   "outputs": [],
   "source": [
    "train_loader=torch.utils.data.DataLoader(train_dataset,batch_size=BATCH_SIZE,shuffle=True)\n",
    "test_loader=torch.utils.data.DataLoader(test_dataset,batch_size=BATCH_SIZE,shuffle=True)"
   ]
  },
  {
   "cell_type": "code",
   "execution_count": 11,
   "metadata": {},
   "outputs": [],
   "source": [
    "model=Net().to(device)\n",
    "optimizer=optim.Adam(params=model.parameters(),lr=0.0001)\n",
    "loss_fn = nn.CrossEntropyLoss()"
   ]
  },
  {
   "cell_type": "code",
   "execution_count": 12,
   "metadata": {},
   "outputs": [],
   "source": [
    "def train(model,device,train_loader,optimizer,epochs):\n",
    "    print(\"inside train\")\n",
    "    model.train()\n",
    "    for batch_ids, (img, classes) in enumerate(train_loader):\n",
    "        classes=classes.type(torch.LongTensor)\n",
    "        img,classes=img.to(device),classes.to(device)\n",
    "        torch.autograd.set_detect_anomaly(True)     \n",
    "        optimizer.zero_grad()\n",
    "        output=model(img)\n",
    "        loss = loss_fn(output,classes)                \n",
    "        \n",
    "        loss.backward()\n",
    "        optimizer.step()\n",
    "    if(batch_ids +1) % 2 == 0:\n",
    "        print(\"Train Epoch: {} [{}/{} ({:.0f}%)]\\tLoss: {:.6f}\".format(\n",
    "            epochs, batch_ids* len(img), len(train_loader.dataset),\n",
    "            100.*batch_ids / len(train_loader),loss.item()))"
   ]
  },
  {
   "cell_type": "code",
   "execution_count": 13,
   "metadata": {},
   "outputs": [],
   "source": [
    "def test(model, device, test_loader):\n",
    "    model.eval()\n",
    "    test_loss=0\n",
    "    correct=0\n",
    "    with torch.no_grad():\n",
    "        for img,classes in test_loader:\n",
    "            img,classes=img.to(device), classes.to(device)\n",
    "            y_hat=model(img)\n",
    "            test_loss+=F.nll_loss(y_hat,classes,reduction='sum').item()\n",
    "            _,y_pred=torch.max(y_hat,1)\n",
    "            correct+=(y_pred==classes).sum().item()\n",
    "        test_loss/=len(test_dataset)\n",
    "        print(\"\\n Test set: Avarage loss: {:.0f},Accuracy:{}/{} ({:.0f}%)\\n\".format(\n",
    "            test_loss,correct,len(test_dataset),100.*correct/len(test_dataset)))\n",
    "        print('='*30)"
   ]
  },
  {
   "cell_type": "code",
   "execution_count": 14,
   "metadata": {},
   "outputs": [
    {
     "name": "stdout",
     "output_type": "stream",
     "text": [
      "inside train\n",
      "Train Epoch: 1 [29984/60000 (100%)]\tLoss: 0.254304\n",
      "\n",
      " Test set: Avarage loss: -7,Accuracy:8505/10000 (85%)\n",
      "\n",
      "==============================\n",
      "inside train\n",
      "Train Epoch: 2 [29984/60000 (100%)]\tLoss: 0.174840\n",
      "\n",
      " Test set: Avarage loss: -8,Accuracy:8926/10000 (89%)\n",
      "\n",
      "==============================\n",
      "inside train\n",
      "Train Epoch: 3 [29984/60000 (100%)]\tLoss: 0.173090\n",
      "\n",
      " Test set: Avarage loss: -8,Accuracy:9015/10000 (90%)\n",
      "\n",
      "==============================\n",
      "inside train\n",
      "Train Epoch: 4 [29984/60000 (100%)]\tLoss: 0.362210\n",
      "\n",
      " Test set: Avarage loss: -9,Accuracy:8951/10000 (90%)\n",
      "\n",
      "==============================\n",
      "inside train\n",
      "Train Epoch: 5 [29984/60000 (100%)]\tLoss: 0.208513\n",
      "\n",
      " Test set: Avarage loss: -11,Accuracy:9072/10000 (91%)\n",
      "\n",
      "==============================\n",
      "inside train\n",
      "Train Epoch: 6 [29984/60000 (100%)]\tLoss: 0.235982\n",
      "\n",
      " Test set: Avarage loss: -12,Accuracy:9139/10000 (91%)\n",
      "\n",
      "==============================\n",
      "inside train\n",
      "Train Epoch: 7 [29984/60000 (100%)]\tLoss: 0.139538\n",
      "\n",
      " Test set: Avarage loss: -10,Accuracy:9139/10000 (91%)\n",
      "\n",
      "==============================\n",
      "inside train\n",
      "Train Epoch: 8 [29984/60000 (100%)]\tLoss: 0.269730\n",
      "\n",
      " Test set: Avarage loss: -10,Accuracy:9186/10000 (92%)\n",
      "\n",
      "==============================\n",
      "inside train\n",
      "Train Epoch: 9 [29984/60000 (100%)]\tLoss: 0.127501\n",
      "\n",
      " Test set: Avarage loss: -12,Accuracy:9213/10000 (92%)\n",
      "\n",
      "==============================\n",
      "inside train\n",
      "Train Epoch: 10 [29984/60000 (100%)]\tLoss: 0.091768\n",
      "\n",
      " Test set: Avarage loss: -13,Accuracy:9265/10000 (93%)\n",
      "\n",
      "==============================\n"
     ]
    }
   ],
   "source": [
    "if __name__=='__main__':\n",
    "    seed=42\n",
    "    EPOCHS=2\n",
    "    \n",
    "    for epoch in range(1,EPOCHS+1):\n",
    "        train(model,device,train_loader,optimizer,epoch)\n",
    "        test(model,device,test_loader)"
   ]
  },
  {
   "cell_type": "code",
   "execution_count": null,
   "metadata": {},
   "outputs": [],
   "source": []
  }
 ],
 "metadata": {
  "kernelspec": {
   "display_name": "Python 3 (ipykernel)",
   "language": "python",
   "name": "python3"
  },
  "language_info": {
   "codemirror_mode": {
    "name": "ipython",
    "version": 3
   },
   "file_extension": ".py",
   "mimetype": "text/x-python",
   "name": "python",
   "nbconvert_exporter": "python",
   "pygments_lexer": "ipython3",
   "version": "3.9.18"
  }
 },
 "nbformat": 4,
 "nbformat_minor": 2
}
